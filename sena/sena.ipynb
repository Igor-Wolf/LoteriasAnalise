{
 "cells": [
  {
   "cell_type": "markdown",
   "id": "932fe488",
   "metadata": {},
   "source": [
    "## Conseguir os Resultados da Mega Sena Mais Recentes"
   ]
  },
  {
   "cell_type": "code",
   "execution_count": null,
   "id": "e10161af",
   "metadata": {},
   "outputs": [],
   "source": [
    "import requests\n",
    "import pandas as pd\n",
    "from io import BytesIO\n",
    "\n",
    "# URL que retorna o arquivo XLSX diretamente\n",
    "url = \"https://servicebus2.caixa.gov.br/portaldeloterias/api/resultados/download?modalidade=Mega-Sena\"\n",
    "\n",
    "# Faz a requisição GET\n",
    "response = requests.get(url)\n",
    "\n",
    "if response.status_code == 200:\n",
    "    # Usa BytesIO para ler o conteúdo em memória como arquivo\n",
    "    excel_file = BytesIO(response.content)\n",
    "\n",
    "    # Lê o arquivo Excel em um DataFrame\n",
    "    df = pd.read_excel(excel_file, engine='openpyxl')   \n",
    "\n",
    "    # Salva em CSV\n",
    "    df.to_csv(\"mega_sena_resultado.csv\", index=False)\n",
    "\n",
    "    print(\"Arquivo CSV salvo com sucesso!\")\n",
    "else:\n",
    "    print(f\"Erro na requisição: {response.status_code}\")\n",
    "\n",
    "\n"
   ]
  },
  {
   "cell_type": "markdown",
   "id": "67eee13a",
   "metadata": {},
   "source": [
    "## Quantas vezes cada número já saiu"
   ]
  },
  {
   "cell_type": "code",
   "execution_count": null,
   "id": "76643e42",
   "metadata": {},
   "outputs": [],
   "source": [
    "import pandas as pd \n",
    "\n",
    "\n",
    "# Mostrar até 1000 linhas (ou o que quiser)\n",
    "pd.set_option('display.max_rows', 5000)\n",
    "pd.set_option('display.min_rows', 5000)\n",
    "\n",
    "\n",
    "resultado = pd.read_csv('mega_sena_resultado.csv')\n",
    "resultado_filtrado = resultado.iloc[:, [2,3,4,5,6,7]]\n",
    "\n",
    "\n",
    "# \"Achata\" todas as colunas para uma única Series\n",
    "todos_numeros = resultado_filtrado.values.flatten()\n",
    "\n",
    "# Conta quantas vezes cada número aparece\n",
    "contagem = pd.Series(todos_numeros).value_counts().sort_index()\n",
    "\n",
    "contagem\n",
    "\n",
    "import plotly.graph_objects as go\n",
    "\n",
    "fig = go.Figure(\n",
    "    data=[\n",
    "        go.Bar(\n",
    "            x=contagem.index,     # os números (ex: 1 a 60)\n",
    "            y=contagem.values     # quantas vezes cada número apareceu\n",
    "        )\n",
    "    ],\n",
    "    layout_title_text=\"Frequência de Números na Mega-Sena\"\n",
    ")\n",
    "\n",
    "fig.update_layout(\n",
    "    title='Frequência de Números na Mega-Sena',\n",
    "    xaxis_title='Número',\n",
    "    yaxis_title='Frequência',\n",
    "    xaxis=dict(\n",
    "        tickmode='linear',  # Mostrar rótulos espaçados igualmente\n",
    "        dtick=1             # Intervalo entre os rótulos (1 = todos os números)\n",
    "    ),\n",
    "    template='plotly_white'\n",
    ")\n",
    "\n",
    "fig.show()\n",
    "\n"
   ]
  },
  {
   "cell_type": "markdown",
   "id": "50eadc9d",
   "metadata": {},
   "source": [
    "## Filtra por numeros específicos"
   ]
  },
  {
   "cell_type": "code",
   "execution_count": null,
   "id": "ba5c427b",
   "metadata": {},
   "outputs": [],
   "source": [
    "# Lista de números que devem aparecer nas colunas Bola1 a Bola6\n",
    "numeros = [20, 10]  # Pode ser qualquer lista\n",
    "\n",
    "# Criar uma lista de máscaras para cada número\n",
    "mascaras = [resultado_filtrado.isin([num]).any(axis=1) for num in numeros]\n",
    "\n",
    "# Combina todas as máscaras com operador &\n",
    "from functools import reduce\n",
    "import operator\n",
    "\n",
    "mascara_final = reduce(operator.and_, mascaras)\n",
    "\n",
    "# Aplica a máscara final para filtrar as linhas\n",
    "linhas_filtradas = resultado_filtrado[mascara_final]\n",
    "\n",
    "linhas_filtradas\n"
   ]
  },
  {
   "cell_type": "code",
   "execution_count": null,
   "id": "677d3178",
   "metadata": {},
   "outputs": [],
   "source": [
    "import plotly.graph_objects as go\n",
    "import pandas as pd\n",
    "\n",
    "# Achatar as linhas filtradas (combinações) em uma única série de números\n",
    "todos_numeros_filtrados = linhas_filtradas.values.flatten()\n",
    "\n",
    "# Contar frequência de cada número\n",
    "frequencia_filtrada = pd.Series(todos_numeros_filtrados).value_counts().sort_index()\n",
    "\n",
    "# Criar gráfico de barras com a frequência\n",
    "fig = go.Figure(\n",
    "    data=[\n",
    "        go.Bar(\n",
    "            x=frequencia_filtrada.index,  # Números (10, 23, 35, 41, ...)\n",
    "            y=frequencia_filtrada.values  # Frequência\n",
    "        )\n",
    "    ]\n",
    ")\n",
    "\n",
    "fig.update_layout(\n",
    "    title='Frequência de Números ',\n",
    "    xaxis_title='Número',\n",
    "    yaxis_title='Frequência',\n",
    "    xaxis=dict(\n",
    "        tickmode='linear',\n",
    "        dtick=1\n",
    "    ),\n",
    "    template='plotly_white'\n",
    ")\n",
    "\n",
    "fig.show()\n"
   ]
  },
  {
   "cell_type": "markdown",
   "id": "046ecda6",
   "metadata": {},
   "source": [
    "## Quais deram mais juntos\n"
   ]
  },
  {
   "cell_type": "code",
   "execution_count": null,
   "id": "05e7905f",
   "metadata": {},
   "outputs": [],
   "source": [
    "import pandas as pd\n",
    "from itertools import combinations\n",
    "from collections import Counter\n",
    "\n",
    "# no row colocar quantos numeros jutos analizar\n",
    "qtd = 2\n",
    "\n",
    "# Suponha que resultado_filtrado já seja seu DataFrame com colunas Bola1 a Bola6\n",
    "\n",
    "# Converter todas as linhas em sets de combinações de 3 números (ordenadas para evitar duplicidade)\n",
    "trios_por_linha = resultado_filtrado.apply(lambda row: list(combinations(sorted(row), qtd)), axis=1) \n",
    "\n",
    "# Achatar a lista para uma só\n",
    "todos_os_trios = [trio for sublist in trios_por_linha for trio in sublist]\n",
    "\n",
    "# Contar quantas vezes cada trio aparece\n",
    "contagem_trios = Counter(todos_os_trios)\n",
    "\n",
    "# Converter para DataFrame (opcional, para melhor visualização)\n",
    "df_trios = pd.DataFrame(contagem_trios.items(), columns=['Numeros', 'Frequência'])\n",
    "\n",
    "# Ordenar por frequência (opcional)\n",
    "df_trios = df_trios.sort_values(by='Frequência', ascending=False).reset_index(drop=True)\n",
    "\n",
    "# Exibir os mais comuns\n",
    "df_trios\n"
   ]
  },
  {
   "cell_type": "markdown",
   "id": "c97e7723",
   "metadata": {},
   "source": [
    "## Mostra os resultados completos"
   ]
  },
  {
   "cell_type": "code",
   "execution_count": null,
   "id": "ebcf435a",
   "metadata": {},
   "outputs": [],
   "source": [
    "resultado"
   ]
  },
  {
   "cell_type": "markdown",
   "id": "91c2a514",
   "metadata": {},
   "source": [
    "# Mostra apenas os numeros já sorteados"
   ]
  },
  {
   "cell_type": "code",
   "execution_count": null,
   "id": "9b156fc6",
   "metadata": {},
   "outputs": [],
   "source": [
    "resultado_filtrado"
   ]
  },
  {
   "cell_type": "markdown",
   "id": "13e20b59",
   "metadata": {},
   "source": [
    "# Jogos Premiados repetidos Nunca houve repetições"
   ]
  },
  {
   "cell_type": "code",
   "execution_count": null,
   "id": "b38e7a30",
   "metadata": {},
   "outputs": [],
   "source": [
    "duplicadas_completas = resultado_filtrado[resultado_filtrado.duplicated(keep=False)]\n",
    "duplicadas_completas\n",
    "\n",
    "\n",
    "repeticoes = resultado_filtrado.value_counts().reset_index(name='Frequência')\n",
    "repeticoes = repeticoes[repeticoes['Frequência'] > 1]\n",
    "repeticoes\n",
    "\n"
   ]
  },
  {
   "cell_type": "markdown",
   "id": "470ec3a9",
   "metadata": {},
   "source": [
    "## Todos os Resultados Possíveis da Mega Sena"
   ]
  },
  {
   "cell_type": "code",
   "execution_count": null,
   "id": "bc9730c6",
   "metadata": {},
   "outputs": [],
   "source": [
    "import pandas as pd \n",
    "\n",
    "\n",
    "# Mostrar até 1000 linhas (ou o que quiser)\n",
    "pd.set_option('display.max_rows', 1000)\n",
    "pd.set_option('display.min_rows', 1000)\n",
    "\n",
    "\n",
    "exemplo1 = pd.read_csv('sena.csv')\n",
    "exemplo1"
   ]
  }
 ],
 "metadata": {
  "kernelspec": {
   "display_name": "venv310",
   "language": "python",
   "name": "python3"
  },
  "language_info": {
   "codemirror_mode": {
    "name": "ipython",
    "version": 3
   },
   "file_extension": ".py",
   "mimetype": "text/x-python",
   "name": "python",
   "nbconvert_exporter": "python",
   "pygments_lexer": "ipython3",
   "version": "3.10.0"
  }
 },
 "nbformat": 4,
 "nbformat_minor": 5
}
